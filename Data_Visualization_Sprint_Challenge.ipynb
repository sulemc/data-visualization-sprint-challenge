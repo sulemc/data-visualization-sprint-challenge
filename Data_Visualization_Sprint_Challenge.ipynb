{
  "nbformat": 4,
  "nbformat_minor": 0,
  "metadata": {
    "colab": {
      "name": " Data Visualization Sprint Challenge.ipynb",
      "version": "0.3.2",
      "provenance": [],
      "collapsed_sections": [],
      "include_colab_link": true
    },
    "kernelspec": {
      "name": "python3",
      "display_name": "Python 3"
    }
  },
  "cells": [
    {
      "cell_type": "markdown",
      "metadata": {
        "id": "view-in-github",
        "colab_type": "text"
      },
      "source": [
        "[View in Colaboratory](https://colab.research.google.com/github/sulemc/data-visualization-sprint-challenge/blob/master/Data_Visualization_Sprint_Challenge.ipynb)"
      ]
    },
    {
      "metadata": {
        "id": "YZXyd0mPedAb",
        "colab_type": "code",
        "colab": {}
      },
      "cell_type": "code",
      "source": [
        "# LAMBDA SCHOOL\n",
        "#\n",
        "# MACHINE LEARNING\n",
        "#\n",
        "# MIT LICENSE\n",
        "\n",
        "import numpy as np\n",
        "import pandas as pd"
      ],
      "execution_count": 0,
      "outputs": []
    },
    {
      "metadata": {
        "id": "rIy8VyxHgrAX",
        "colab_type": "text"
      },
      "cell_type": "markdown",
      "source": [
        "# Data Visualization Sprint Challenge\n",
        "\n",
        "There are three objectives in Data Visualization\n",
        "\n",
        "* Draw an oblique topology\n",
        "* Pairplot to find clusters\n",
        "* Plot clusters together\n",
        "\n",
        "Share with mlsubmissions@lambdaschool.com when finished."
      ]
    },
    {
      "metadata": {
        "id": "tgun1gesteJ-",
        "colab_type": "text"
      },
      "cell_type": "markdown",
      "source": [
        "# Draw an oblique topology\n",
        "\n",
        "The Mexican Hat Filter or Laplacian of Gaussian is used for cleaning up noisy 2d data, such as in images. It makes a pretty cool 3d graph.\n",
        "\n",
        "Plot the filter that is returned by the defined function. The range of the function as defined should be interesting from approximately -1 to 1"
      ]
    },
    {
      "metadata": {
        "id": "zvBfCes5td6j",
        "colab_type": "code",
        "colab": {}
      },
      "cell_type": "code",
      "source": [
        "def laplacian_of_gaussian(x,y):\n",
        "    sigma = 0.3\n",
        "    return 1/np.pi*sigma * (1-0.5*((x**2 + y**2)/sigma**2)) * np.exp(-((x**2+y**2)/(2*sigma**2)))\n",
        "\n",
        "import matplotlib.pyplot as plt\n",
        "from mpl_toolkits import mplot3d\n",
        "\n",
        "ax = plt.axes(projection='3d')"
      ],
      "execution_count": 0,
      "outputs": []
    },
    {
      "metadata": {
        "id": "OTJuN6e9x2e1",
        "colab_type": "text"
      },
      "cell_type": "markdown",
      "source": [
        "# Pairplot to find clusters\n",
        "\n",
        "Clusters have a normal shape along each axis. Pairplot the following data and manually print which axes are normal.\n",
        "\n",
        "Read your data from `https://www.dropbox.com/s/ziqwkm163ih96v0/sprint_challenge_data.csv?raw=1`"
      ]
    },
    {
      "metadata": {
        "id": "9RPRox4Zz3pA",
        "colab_type": "code",
        "colab": {}
      },
      "cell_type": "code",
      "source": [
        "import seaborn as sns\n",
        "\n",
        "# Pairplot via seaborn"
      ],
      "execution_count": 0,
      "outputs": []
    },
    {
      "metadata": {
        "id": "10f2A_XPz4Nh",
        "colab_type": "text"
      },
      "cell_type": "markdown",
      "source": [
        "# Plot clusters together\n",
        "\n",
        "You found the clusters. Draw them on the same graph."
      ]
    },
    {
      "metadata": {
        "id": "IxEQqhApz95b",
        "colab_type": "code",
        "colab": {}
      },
      "cell_type": "code",
      "source": [
        "# Plot clusters"
      ],
      "execution_count": 0,
      "outputs": []
    }
  ]
}